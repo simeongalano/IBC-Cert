{
 "cells": [
  {
   "cell_type": "markdown",
   "id": "143cbf2d-e83b-4b4a-a803-091ca6a0a60f",
   "metadata": {},
   "source": [
    "# Data Science Tools and Ecosystem"
   ]
  },
  {
   "cell_type": "markdown",
   "id": "bdede6d4-c3e2-4bb0-9904-d7934ad439da",
   "metadata": {},
   "source": [
    "In this notebook, Data Science Tools and Ecosystem are summarized."
   ]
  },
  {
   "cell_type": "markdown",
   "id": "4db929d3-359a-41a1-9321-2cf19a3129c3",
   "metadata": {},
   "source": [
    "**Objectives:**\n",
    "\n",
    "- List popular languages for Data Science\n",
    "- Identify commonly used libraries in Data Science\n",
    "- Introduce key Data Science tools and Enviorments\n",
    "- Demonstrate basic arithmetic operations in Python\n",
    "- Convert time units using Python expressions\n"
   ]
  },
  {
   "cell_type": "markdown",
   "id": "a2224612-7a07-4121-9ec9-4ff7ed4b25dd",
   "metadata": {},
   "source": [
    "Some of the popular languages that Data Scientists use are:\n",
    "1. Python\n",
    "2. R\n",
    "3. Java"
   ]
  },
  {
   "cell_type": "markdown",
   "id": "04705af7-16c2-4f48-a404-5bbf532c341d",
   "metadata": {},
   "source": [
    "Some of the commonly used libraries used by Data Scientists include:\n",
    "- numply\n",
    "- Tensorflow\n",
    "- Pandas"
   ]
  },
  {
   "cell_type": "markdown",
   "id": "9b0151e7-962f-4bbb-b309-2df7fbb10c82",
   "metadata": {},
   "source": [
    "| Data Science Tools         |\n",
    "|----------------------------|\n",
    "| Jupyter Notebook           |\n",
    "| RStudio                    |\n",
    "| Apache Hadoop              |\n"
   ]
  },
  {
   "cell_type": "markdown",
   "id": "85b2a7f8-fefc-4014-8e16-d8b17567524e",
   "metadata": {},
   "source": [
    "### Below are a few examples of evaluating arithmetic expressions in Python"
   ]
  },
  {
   "cell_type": "code",
   "execution_count": 1,
   "id": "54314ef9-7f64-49fb-a9e5-19da02d4ff2a",
   "metadata": {},
   "outputs": [
    {
     "data": {
      "text/plain": [
       "17"
      ]
     },
     "execution_count": 1,
     "metadata": {},
     "output_type": "execute_result"
    }
   ],
   "source": [
    "# This is a simple arithmetic expression to multiply then add integers\n",
    "(3 * 4) + 5"
   ]
  },
  {
   "cell_type": "code",
   "execution_count": 2,
   "id": "bae81726-779a-49a7-a0e6-22d37ccbd6d0",
   "metadata": {},
   "outputs": [
    {
     "data": {
      "text/plain": [
       "3.3333333333333335"
      ]
     },
     "execution_count": 2,
     "metadata": {},
     "output_type": "execute_result"
    }
   ],
   "source": [
    "# This will convert 200 minutes to hours by dividing by 60\n",
    "200 / 60"
   ]
  },
  {
   "cell_type": "markdown",
   "id": "e4293da3-94eb-4a55-a744-7e971d15b5d5",
   "metadata": {},
   "source": [
    "## Author\n",
    "\n",
    "Simeon Galano"
   ]
  },
  {
   "cell_type": "code",
   "execution_count": null,
   "id": "e4c3dd32-9a42-43aa-99b5-b666046fcdfc",
   "metadata": {},
   "outputs": [],
   "source": []
  }
 ],
 "metadata": {
  "kernelspec": {
   "display_name": "Python 3 (ipykernel)",
   "language": "python",
   "name": "python3"
  },
  "language_info": {
   "codemirror_mode": {
    "name": "ipython",
    "version": 3
   },
   "file_extension": ".py",
   "mimetype": "text/x-python",
   "name": "python",
   "nbconvert_exporter": "python",
   "pygments_lexer": "ipython3",
   "version": "3.11.9"
  }
 },
 "nbformat": 4,
 "nbformat_minor": 5
}
